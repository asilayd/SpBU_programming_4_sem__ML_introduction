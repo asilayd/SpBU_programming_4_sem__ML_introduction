{
 "cells": [
  {
   "cell_type": "code",
   "execution_count": 3,
   "id": "be9d607b-5572-466c-a22f-c5331d0a86ec",
   "metadata": {},
   "outputs": [],
   "source": [
    "import numpy as np"
   ]
  },
  {
   "cell_type": "markdown",
   "id": "db814b20-ba69-42c6-bfca-d484bfb2822c",
   "metadata": {},
   "source": [
    "## Метрики для непрерывных величин:"
   ]
  },
  {
   "cell_type": "markdown",
   "id": "94d71372-c020-4777-8754-99fcf9b589af",
   "metadata": {},
   "source": [
    "### 1. Среднеквадратическая ошибка (MSE) <br>\n"
   ]
  },
  {
   "cell_type": "markdown",
   "id": "ac784ceb-f869-4a01-9540-12e11503aac9",
   "metadata": {},
   "source": [
    "$\\text{MSE} = \\frac{1}{n} \\sum_{i=1}^{n} (y_i - \\hat{y}_i)^2$ <br> <br>\n",
    "Это метрика, часто используемая для задач регрессии, которая измеряет среднеквадратичное отклонение предсказанных значений от истинных."
   ]
  },
  {
   "cell_type": "code",
   "execution_count": 20,
   "id": "679d6856-707c-4105-ae35-786effe9c49d",
   "metadata": {},
   "outputs": [
    {
     "name": "stdout",
     "output_type": "stream",
     "text": [
      "MSE: 0.4642857142857143\n"
     ]
    }
   ],
   "source": [
    "def mse(y_true, y_pred):\n",
    "    y_true = np.array(y_true)\n",
    "    y_pred = np.array(y_pred)\n",
    "    return np.mean((y_true - y_pred) ** 2)\n",
    "\n",
    "y_true = np.array([3, 0, 2, 7, 8, 9, 1])\n",
    "y_pred = np.array([2.5, 0, 2, 8, 7, 10, 1])\n",
    "\n",
    "print(\"MSE:\", mse(y_true, y_pred))  "
   ]
  },
  {
   "cell_type": "markdown",
   "id": "c0d9ffa7-997b-47e0-af87-bfabca855034",
   "metadata": {},
   "source": [
    "### 2. Средняя абсолютная ошибка (MAE) <br> \n"
   ]
  },
  {
   "cell_type": "markdown",
   "id": "eaaa89b1-bea2-48cf-a299-5cab538ca39e",
   "metadata": {},
   "source": [
    "$\\text{MAE} = \\frac{1}{n} \\sum_{i=1}^{n} |y_i - \\hat{y}_i|$ <br> <br>\n",
    "MAE измеряет среднее абсолютное отклонение предсказаний от истинных значений."
   ]
  },
  {
   "cell_type": "code",
   "execution_count": 5,
   "id": "d94a3264-7703-4498-a668-f020bfbe6038",
   "metadata": {},
   "outputs": [
    {
     "name": "stdout",
     "output_type": "stream",
     "text": [
      "MAE: 0.5\n"
     ]
    }
   ],
   "source": [
    "def mae(y_true, y_pred):\n",
    "    y_true = np.array(y_true)\n",
    "    y_pred = np.array(y_pred)\n",
    "    return np.mean(np.abs(y_true - y_pred))\n",
    "\n",
    "# Тестирование\n",
    "print(\"MAE:\", mae(y_true, y_pred))  "
   ]
  },
  {
   "cell_type": "markdown",
   "id": "04e0edb1-5943-4340-ae08-984091e102ff",
   "metadata": {},
   "source": [
    "### 3. R² (Коэффициент детерминации)"
   ]
  },
  {
   "cell_type": "markdown",
   "id": "17fcaaed-aad8-4638-8437-128e3443e22c",
   "metadata": {},
   "source": [
    "$R^2$ показывает, насколько хорошо модель объясняет вариативность данных. <br> <br>\n",
    "$R^2 = 1 - \\frac{\\sum_{i=1}^{n} (y_i - \\hat{y}_i)^2}{\\sum_{i=1}^{n} (y_i - \\overline{y})^2}$"
   ]
  },
  {
   "cell_type": "code",
   "execution_count": 8,
   "id": "e21c294f-5aff-4e79-bdf2-e66a318e7cd5",
   "metadata": {},
   "outputs": [
    {
     "name": "stdout",
     "output_type": "stream",
     "text": [
      "R²: 0.9590827338129496\n"
     ]
    }
   ],
   "source": [
    "def r2_score(y_true, y_pred):\n",
    "    y_true = np.array(y_true)\n",
    "    y_pred = np.array(y_pred)\n",
    "    mean_y = np.mean(y_true)\n",
    "    ss_tot = np.sum((y_true - mean_y) ** 2)\n",
    "    ss_res = np.sum((y_true - y_pred) ** 2)\n",
    "    return 1 - (ss_res / ss_tot)\n",
    "\n",
    "# Тестирование\n",
    "print(\"R²:\", r2_score(y_true, y_pred))"
   ]
  },
  {
   "cell_type": "markdown",
   "id": "25a7fbe0-2350-4f26-9f2f-33adf8359158",
   "metadata": {},
   "source": [
    "## Метрики для дискретных величин:"
   ]
  },
  {
   "cell_type": "markdown",
   "id": "f4f9ea18-b5c0-4518-8855-8f7080bccc7e",
   "metadata": {},
   "source": [
    "### 4. Точность (Accuracy) \n",
    "\n"
   ]
  },
  {
   "cell_type": "markdown",
   "id": "eb3688fb-e531-4df9-83ca-17f4455c280b",
   "metadata": {},
   "source": [
    "Простая метрика для оценки доли верных предсказаний для дискретных данных. <br> <br>\n",
    "$\\text{Accuracy} = \\frac{\\text{Количество верных предсказаний}}{\\text{Общее количество предсказаний}}$"
   ]
  },
  {
   "cell_type": "code",
   "execution_count": 9,
   "id": "941618ba-180a-4ad8-9ed8-5484f4c7bcdf",
   "metadata": {},
   "outputs": [
    {
     "name": "stdout",
     "output_type": "stream",
     "text": [
      "Accuracy: 0.75\n"
     ]
    }
   ],
   "source": [
    "def accuracy(y_true, y_pred):\n",
    "    y_true = np.array(y_true)\n",
    "    y_pred = np.array(y_pred)\n",
    "    return np.mean(y_true == y_pred)\n",
    "\n",
    "# Тестирование\n",
    "y_true_binary = np.array([1, 0, 1, 1])\n",
    "y_pred_binary = np.array([1, 0, 0, 1])\n",
    "print(\"Accuracy:\", accuracy(y_true_binary, y_pred_binary)) "
   ]
  },
  {
   "cell_type": "markdown",
   "id": "9b718d59-3ed7-4364-b591-27047267a6a8",
   "metadata": {},
   "source": [
    "### 5. Полнота (Recall)"
   ]
  },
  {
   "cell_type": "markdown",
   "id": "394dcbac-6254-4241-b745-43f15b2257c2",
   "metadata": {},
   "source": [
    "Полнота измеряет способность модели правильно находить все положительные примеры. <br> <br>\n",
    "$\\text{Recall} = \\frac{\\text{TP}}{\\text{TP} + \\text{FN}}$\n"
   ]
  },
  {
   "cell_type": "code",
   "execution_count": 10,
   "id": "8eb97701-b8c8-44a5-b543-0ecee1aaa838",
   "metadata": {},
   "outputs": [],
   "source": [
    "def recall(y_true, y_pred):\n",
    "    tp = sum(1 for yt, yp in zip(y_true, y_pred) if yt == 1 and yp == 1)\n",
    "    fn = sum(1 for yt, yp in zip(y_true, y_pred) if yt == 1 and yp == 0)\n",
    "    return tp / (tp + fn) if tp + fn != 0 else 0"
   ]
  },
  {
   "cell_type": "code",
   "execution_count": 11,
   "id": "42fb4745-534e-4706-9c01-53a498d0f89c",
   "metadata": {},
   "outputs": [
    {
     "name": "stdout",
     "output_type": "stream",
     "text": [
      "1.0\n"
     ]
    }
   ],
   "source": [
    "print(recall(y_true, y_pred))"
   ]
  },
  {
   "cell_type": "markdown",
   "id": "b14bc682-ff1a-4e1d-82c3-241e935fc2e9",
   "metadata": {},
   "source": [
    "### 6. Точность (Precision)"
   ]
  },
  {
   "cell_type": "markdown",
   "id": "b897682c-26b9-4605-bef1-2aa6c7268913",
   "metadata": {},
   "source": [
    "Точность показывает, сколько из предсказанных положительных значений действительно положительные. <br> <br>\n",
    "$\\text{Precision} = \\frac{\\text{TP}}{\\text{TP} + \\text{FP}}$"
   ]
  },
  {
   "cell_type": "code",
   "execution_count": 12,
   "id": "f2f160b5-4f28-4e2a-837f-f45f596e7073",
   "metadata": {},
   "outputs": [
    {
     "name": "stdout",
     "output_type": "stream",
     "text": [
      "1.0\n"
     ]
    }
   ],
   "source": [
    "def precision(y_true, y_pred):\n",
    "    tp = sum(1 for yt, yp in zip(y_true, y_pred) if yt == 1 and yp == 1)\n",
    "    fp = sum(1 for yt, yp in zip(y_true, y_pred) if yt == 0 and yp == 1)\n",
    "    return tp / (tp + fp) if tp + fp != 0 else 0\n",
    "\n",
    "print(precision(y_true, y_pred))"
   ]
  },
  {
   "cell_type": "markdown",
   "id": "7426bd71-80a1-43fe-8bd6-bd327d17688b",
   "metadata": {},
   "source": [
    "### 7.F1-метрика"
   ]
  },
  {
   "cell_type": "markdown",
   "id": "c1a2bbcf-45a7-4d25-81bc-717f2c0c78a9",
   "metadata": {},
   "source": [
    "Это гармоническое среднее между Precision и Recall. <br> <br>\n",
    "$F1 = 2 \\cdot \\frac{\\text{Precision} \\cdot \\text{Recall}}{\\text{Precision} + \\text{Recall}}$"
   ]
  },
  {
   "cell_type": "code",
   "execution_count": 13,
   "id": "16f73f40-2f14-49fd-9f93-206b8c105153",
   "metadata": {},
   "outputs": [
    {
     "name": "stdout",
     "output_type": "stream",
     "text": [
      "F1 Score: 0.8\n"
     ]
    }
   ],
   "source": [
    "def f1_score(y_true, y_pred):\n",
    "    p = precision(y_true, y_pred)\n",
    "    r = recall(y_true, y_pred)\n",
    "    return 2 * (p * r) / (p + r) if (p + r) > 0 else 0\n",
    "\n",
    "# Тестирование\n",
    "print(\"F1 Score:\", f1_score(y_true_binary, y_pred_binary))"
   ]
  },
  {
   "cell_type": "markdown",
   "id": "df14ec82-665f-4c93-82ee-4065d2e99bc8",
   "metadata": {},
   "source": [
    "## Метрики для смешанных данных (непрерывных и дискретных):"
   ]
  },
  {
   "cell_type": "markdown",
   "id": "eaf0f280-6f8a-4324-b19b-d1fcca960b45",
   "metadata": {},
   "source": [
    "### 8. Косинусное сходство"
   ]
  },
  {
   "cell_type": "markdown",
   "id": "a8cdda89-1103-46cb-8485-8a16163f7e7f",
   "metadata": {},
   "source": [
    "Это метрика, измеряющая угол между векторами в многомерном пространстве. Подходит для задач с 10-мерными пространствами. <br> <br>\n",
    "$\\text{Cosine Similarity} = \\frac{A \\cdot B}{||A|| \\cdot ||B||}$"
   ]
  },
  {
   "cell_type": "code",
   "execution_count": 15,
   "id": "c1f1caa6-e511-4442-9959-b8c6f4d100ba",
   "metadata": {},
   "outputs": [
    {
     "name": "stdout",
     "output_type": "stream",
     "text": [
      "Cosine Similarity: 0.9746318461970762\n"
     ]
    }
   ],
   "source": [
    "def cosine_similarity(vec1, vec2):\n",
    "    vec1 = np.array(vec1)\n",
    "    vec2 = np.array(vec2)\n",
    "    dot_product = np.dot(vec1, vec2)\n",
    "    norm_a = np.linalg.norm(vec1)\n",
    "    norm_b = np.linalg.norm(vec2)\n",
    "    return dot_product / (norm_a * norm_b)\n",
    "\n",
    "# Тестирование\n",
    "vec1 = np.array([1, 2, 3])\n",
    "vec2 = np.array([4, 5, 6])\n",
    "print(\"Cosine Similarity:\", cosine_similarity(vec1, vec2))"
   ]
  },
  {
   "cell_type": "markdown",
   "id": "7e7e9918-d11f-445f-88c7-2d8af88ab3cf",
   "metadata": {},
   "source": [
    "### 9. Эвклидово расстояние"
   ]
  },
  {
   "cell_type": "markdown",
   "id": "cf605535-0c6a-4267-a8ce-a8edacaca25d",
   "metadata": {},
   "source": [
    "Стандартная метрика для измерения расстояния между точками в многомерном пространстве. <br> <br> \n",
    "$d = \\sqrt{\\sum_{i=1}^{n} (x_i - y_i)^2}$"
   ]
  },
  {
   "cell_type": "code",
   "execution_count": 16,
   "id": "a46f5f6b-fdb1-4f66-987e-f5ba6e6d9576",
   "metadata": {},
   "outputs": [
    {
     "name": "stdout",
     "output_type": "stream",
     "text": [
      "Euclidean Distance: 5.196152422706632\n"
     ]
    }
   ],
   "source": [
    "def euclidean_distance(vec1, vec2):\n",
    "    vec1 = np.array(vec1)\n",
    "    vec2 = np.array(vec2)\n",
    "    return np.sqrt(np.sum((vec1 - vec2) ** 2))\n",
    "\n",
    "# Тестирование\n",
    "print(\"Euclidean Distance:\", euclidean_distance(vec1, vec2))"
   ]
  },
  {
   "cell_type": "markdown",
   "id": "52e7678e-d87e-430e-88cc-41c6bc0d1280",
   "metadata": {},
   "source": [
    "### 10. Метрика Хэмминга"
   ]
  },
  {
   "cell_type": "markdown",
   "id": "ed555e63-31a5-467f-8899-98d786d9ae4d",
   "metadata": {},
   "source": [
    "Расстояние Хэмминга измеряет количество позиций, в которых символы двух строк одинаковой длины различаются. Пусть x и 𝑦\n",
    "y — это две строки одинаковой длины n. Тогда расстояние Хэмминга определяется как: \n",
    "<br> <br> \n",
    "$d_H(x, y) = \\sum_{i=1}^{n} [x_i \\neq y_i]$"
   ]
  },
  {
   "cell_type": "code",
   "execution_count": 18,
   "id": "9b705eb8-3a73-49dd-a537-bd18d5d19a41",
   "metadata": {},
   "outputs": [
    {
     "name": "stdout",
     "output_type": "stream",
     "text": [
      "Hamming Distance: 2\n"
     ]
    }
   ],
   "source": [
    "def hamming_distance(y_true, y_pred):\n",
    "    y_true = np.array(y_true)\n",
    "    y_pred = np.array(y_pred)\n",
    "    return np.sum(y_true != y_pred)\n",
    "\n",
    "# Тестирование\n",
    "y_true = np.array([1, 0, 1])\n",
    "y_pred = np.array([1, 1, 0])\n",
    "print(\"Hamming Distance:\", hamming_distance(y_true, y_pred))"
   ]
  },
  {
   "cell_type": "code",
   "execution_count": null,
   "id": "5268ef3a-5fab-4cd9-a3e9-7d09c64ba78a",
   "metadata": {},
   "outputs": [],
   "source": []
  }
 ],
 "metadata": {
  "kernelspec": {
   "display_name": "Python 3 (ipykernel)",
   "language": "python",
   "name": "python3"
  },
  "language_info": {
   "codemirror_mode": {
    "name": "ipython",
    "version": 3
   },
   "file_extension": ".py",
   "mimetype": "text/x-python",
   "name": "python",
   "nbconvert_exporter": "python",
   "pygments_lexer": "ipython3",
   "version": "3.12.4"
  }
 },
 "nbformat": 4,
 "nbformat_minor": 5
}
